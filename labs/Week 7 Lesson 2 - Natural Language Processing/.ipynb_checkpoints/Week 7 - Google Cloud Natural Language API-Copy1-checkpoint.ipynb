{
 "cells": [
  {
   "cell_type": "markdown",
   "metadata": {},
   "source": [
    "# Data Science Part Time Course - Sydney\n",
    "## Natural Language API on Google Cloud Platform\n",
    "\n",
    "In this lab we will experiment with the Google Natural Language API. \n",
    "\n",
    "The Google Natural Lanaguage API can be access via python code. In this lab we will set up our GCP environments to use the Natural Language API and then run through an example."
   ]
  },
  {
   "cell_type": "markdown",
   "metadata": {},
   "source": [
    "## Try the Google Cloud Natural Language API web interface demo\n",
    "https://cloud.google.com/natural-language/\n",
    "\n",
    "Copy text to the interface and see what output you get. \n",
    "\n",
    "Try using some of the movie reviews in the lab folder 'movie_reviews'.\n",
    "\n",
    "\n",
    "The Natural Language API has several methods for performing analysis and annotation on your text. Each level of analysis provides valuable information for language understanding. These methods are listed below:\n",
    "\n",
    "- Sentiment analysis inspects the given text and identifies the prevailing emotional opinion within the text, especially to determine a writer's attitude as positive, negative, or neutral. Sentiment analysis is performed through the analyzeSentiment method.\n",
    "- Entity analysis inspects the given text for known entities (Proper nouns such as public figures, landmarks, and so on. Common nouns such as restaurant, stadium, and so on.) and returns information about those entities. Entity analysis is performed with the analyzeEntities method.\n",
    "- Entity sentiment analysis inspects the given text for known entities (proper nouns and common nouns), returns information about those entities, and identifies the prevailing emotional opinion of the entity within the text, especially to determine a writer's attitude toward the entity as positive, negative, or neutral. Entity analysis is performed with the analyzeEntitySentiment method.\n",
    "- Syntactic analysis extracts linguistic information, breaking up the given text into a series of sentences and tokens (generally, word boundaries), providing further analysis on those tokens. Syntactic Analysis is performed with the analyzeSyntax method.\n",
    "\n",
    "![](images/logo_lockup_cloud_platform_icon_vertical.png)"
   ]
  },
  {
   "cell_type": "markdown",
   "metadata": {},
   "source": [
    "## Try an alternative service: IBM Bluemix\n",
    "\n",
    "\n",
    "Another feature rich Natural Language API is available from IBM Bluemix. This API is part of Watson and th basis of it was a procurement of the company Alchemy API.\n",
    "\n",
    "Try inputing the same text as used for GCP and compare the output.\n",
    "\n",
    "https://natural-language-understanding-demo.mybluemix.net/\n",
    "\n",
    "\n",
    "![](images/NLU.png)\n",
    "\n"
   ]
  },
  {
   "cell_type": "markdown",
   "metadata": {},
   "source": [
    "\n",
    "# Using the Google Cloud Natural Language API\n",
    "\n",
    "\n",
    "https://cloud.google.com/natural-language/docs/getting-started#quickstart-analyze-entities-gcloud\n",
    "\n",
    "1. Creata a project in GCP\n",
    "1. Enable Billing\n",
    "1. Enable the Google Cloud Natural Language API\n",
    "1. Install the required packages \n",
    "\n",
    "https://cloud.google.com/natural-language/docs/getting-started\n",
    "\n",
    "Documentation about the Natural Lanaguage API is available here:\n",
    "https://cloud.google.com/natural-language/docs/basics"
   ]
  },
  {
   "cell_type": "markdown",
   "metadata": {},
   "source": [
    "### This is the google cloud console\n",
    "Everyone should have a login by now\n",
    "\n",
    "![](images/01.png)\n"
   ]
  },
  {
   "cell_type": "markdown",
   "metadata": {},
   "source": [
    "Pre-requisits for using the Natural Language API include:\n",
    "\n",
    "-  Setting up a project\n",
    "-  Enabling Billing\n",
    "\n",
    "These steps should already be in place form when you established your account. Here is a guide for preparing your account to use the API https://cloud.google.com/natural-language/docs/getting-started"
   ]
  },
  {
   "cell_type": "markdown",
   "metadata": {},
   "source": [
    "### Enable Billing on the Project\n",
    "\n",
    "From the GCP console, start entering \"billing\" into the search bar, and then click the Billing API option. \n",
    "\n",
    "![](images/billing_search.png)"
   ]
  },
  {
   "cell_type": "markdown",
   "metadata": {},
   "source": [
    "You should end up in the API Manager.\n",
    "\n",
    "Press the enable button\n",
    "\n",
    "![](images/billing.png)"
   ]
  },
  {
   "cell_type": "markdown",
   "metadata": {},
   "source": [
    "### Enable Natural Language API \n",
    "\n",
    "From the GCP console, start entering \"Language\" into the search bar, and then click the Natural Language API button. \n",
    "\n",
    "![](images/02.png)\n"
   ]
  },
  {
   "cell_type": "markdown",
   "metadata": {},
   "source": [
    "You should end up in the API Manager.\n",
    "\n",
    "Press the enable button\n",
    "\n",
    "![](images/03.png)\n"
   ]
  },
  {
   "cell_type": "markdown",
   "metadata": {},
   "source": [
    "### Get Credentials to Authenticate with the API Service\n",
    "\n",
    "Select Credentionals from the menu on the left of the API window and then select create credentials.\n",
    "\n",
    "![](images/04.png)\n"
   ]
  },
  {
   "cell_type": "markdown",
   "metadata": {},
   "source": [
    "We want to create an service account key to authenticate with the Natural Lanaguage API service. There are several options for authentication. \n",
    "\n",
    "https://cloud.google.com/iam/docs/creating-managing-service-accounts#creating_a_service_account"
   ]
  },
  {
   "cell_type": "markdown",
   "metadata": {},
   "source": [
    "### Generate a service account key from the console\n",
    "\n",
    "select create a service account key.\n",
    "\n",
    "![](images/service_acct.png)\n"
   ]
  },
  {
   "cell_type": "markdown",
   "metadata": {},
   "source": [
    "Grant the service account full permissions to the project, by setting it to 'owner'. Normaly you would restrict the access to the minimum of what is requires, but for this demonstration this will suffice. \n",
    "\n",
    "1. select New Service Account\n",
    "1. give it a name such as NLPtest\n",
    "1. grant permissions to be project 'owner' Role > Project > Owner\n",
    "1. key type = JSON\n",
    "1. create\n",
    "\n",
    "![](images/service_acct_permissions.png)\n"
   ]
  },
  {
   "cell_type": "markdown",
   "metadata": {},
   "source": [
    "The JSON file will download. Save this file somewhere conventient for this lab as we will use it later.\n",
    "\n",
    "\n",
    "![](images/service_acct_key_download.png)"
   ]
  },
  {
   "cell_type": "markdown",
   "metadata": {},
   "source": [
    "## Install Google Cloud SDK\n",
    "\n",
    "We will use the Google Cloud SDK to interact with the Natural Language API from our local machines. This SDK will enable interaction with many other GCP services. \n",
    "\n",
    "The following page provides instructions oh how to download the SDK or your specific system:\n",
    "### https://cloud.google.com/sdk/downloads\n",
    "\n",
    "We will be following those instructions.\n",
    "\n",
    "\n",
    "\n",
    "\n",
    "For reference:\n",
    "Here is the landing page for the SDK. \n",
    "https://cloud.google.com/sdk/\n",
    "\n",
    "Once the SDK is installed we will follow the following instructions to get the SDK working:\n",
    "https://cloud.google.com/sdk/docs/quickstart-mac-os-x\n",
    "\n",
    "\n"
   ]
  },
  {
   "cell_type": "markdown",
   "metadata": {},
   "source": [
    "#### Scroll down to the following section to download\n",
    "\n",
    "from the download page: https://cloud.google.com/sdk/downloads\n",
    "\n",
    "![](images/07.png)\n",
    "\n"
   ]
  },
  {
   "cell_type": "markdown",
   "metadata": {},
   "source": [
    "Open a command-line interface on your machine and begin entering the above commands. Follow these instructions to download and install the gcloud tools"
   ]
  },
  {
   "cell_type": "markdown",
   "metadata": {},
   "source": [
    "When asked, accept the request to add gcloud binaries to your enviornment PATH\n",
    "\n",
    "![](images/08.png)"
   ]
  },
  {
   "cell_type": "markdown",
   "metadata": {},
   "source": [
    "You should be prompted to authorise your google account with gcloud via a browser interface. Authorise your account.\n",
    "\n",
    "![](images/authorise.png)"
   ]
  },
  {
   "cell_type": "markdown",
   "metadata": {},
   "source": [
    "Select your account in the command line after having authorised the account in the browser.\n",
    "\n",
    "![](images/gcloud_init.png)"
   ]
  },
  {
   "cell_type": "markdown",
   "metadata": {},
   "source": [
    "Configure google cloud compute engine\n",
    "\n",
    "![](images/gcloud_init2.png)"
   ]
  },
  {
   "cell_type": "markdown",
   "metadata": {},
   "source": [
    "Pick a region (US will have more services)\n",
    "\n",
    "![](images/gcloud_init3.png)"
   ]
  },
  {
   "cell_type": "markdown",
   "metadata": {},
   "source": [
    "Following the Natural Language API quickstart guide again\n",
    "https://cloud.google.com/natural-language/docs/getting-started\n",
    "\n",
    "From your terminal xport the GOOGLE_APPLICATION_CREDENTIALS with the path to the service key JSON file we downloaded earlier: \n",
    "\n",
    "> export GOOGLE_APPLICATION_CREDENTIALS=/path/to/service_account.json\n",
    "\n",
    "Then autorise gcloud to use that file as well\n",
    "\n",
    ">gcloud auth activate-service-account --key-file=service-account-key-file"
   ]
  },
  {
   "cell_type": "markdown",
   "metadata": {},
   "source": [
    "### Run the example"
   ]
  },
  {
   "cell_type": "markdown",
   "metadata": {},
   "source": [
    "https://cloud.google.com/natural-language/docs/auth"
   ]
  },
  {
   "cell_type": "markdown",
   "metadata": {},
   "source": [
    "Paste the following into the command line shell to test the API service!\n",
    "\n",
    "gcloud beta ml language analyze-entities --content=\"Michelangelo Caravaggio, Italian painter, is known for 'The Calling of Saint Matthew'.\"\n",
    "\n",
    "You can try with different strings.\n",
    "\n",
    "Q: How does it compare with the web interface we used at the start?\n",
    "\n",
    "We can use this same service programmatically, including via a ython interface to make many requests!"
   ]
  },
  {
   "cell_type": "code",
   "execution_count": null,
   "metadata": {
    "collapsed": true
   },
   "outputs": [],
   "source": []
  }
 ],
 "metadata": {
  "kernelspec": {
   "display_name": "Python 3",
   "language": "python",
   "name": "python3"
  },
  "language_info": {
   "codemirror_mode": {
    "name": "ipython",
    "version": 3
   },
   "file_extension": ".py",
   "mimetype": "text/x-python",
   "name": "python",
   "nbconvert_exporter": "python",
   "pygments_lexer": "ipython3",
   "version": "3.6.0"
  }
 },
 "nbformat": 4,
 "nbformat_minor": 2
}
