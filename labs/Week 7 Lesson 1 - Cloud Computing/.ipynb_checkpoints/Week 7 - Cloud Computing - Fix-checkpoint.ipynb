{
 "cells": [
  {
   "cell_type": "markdown",
   "metadata": {},
   "source": [
    "# Cloud Computing on Google Cloud Platform\n",
    "## Tuesday 4th July 2017\n",
    "\n",
    "This lab will take you through the steps involved to run your own Jupyter Notebook on Google cloud. We will:\n",
    "- Setup a cloud instance\n",
    "- SSH into that machine\n",
    "- Install Python and Jupyter\n",
    "- Setup cloud storage and mount it to the instance as a disk\n",
    "- Load data in a jupyter notebook\n",
    "\n",
    "*Note our example is designed for a one off lab - to run this with sensitive data make sure you folow the google guidelines and use the gcloud command line utility*"
   ]
  },
  {
   "cell_type": "markdown",
   "metadata": {},
   "source": [
    "### This is the google cloud console\n",
    "Everyone should have a login by now\n",
    "\n",
    "![](images/01.png)\n"
   ]
  },
  {
   "cell_type": "markdown",
   "metadata": {},
   "source": [
    "### Firstly we want to switch on a Virtual Machine\n",
    "\n",
    "Click on Compute Engine then create an instance\n",
    "\n",
    "![](images/02.png)\n"
   ]
  },
  {
   "cell_type": "markdown",
   "metadata": {},
   "source": [
    "### Instance Details\n",
    "\n",
    "Specify the following:\n",
    "- Name: 'ga-sydney'\n",
    "- Zone: 'australia-southeast-1a'\n",
    "- Machine Type: '8VPUs 30gb Ram'\n",
    "\n",
    "Then click on Boot Disk\n",
    "\n",
    "![](images/03.png)\n"
   ]
  },
  {
   "cell_type": "markdown",
   "metadata": {},
   "source": [
    "### Boot Disk Details\n",
    "\n",
    "Select Ubuntu 16.04 and increase the disk size to 100GB\n",
    "\n",
    "![](images/05.png)\n"
   ]
  },
  {
   "cell_type": "markdown",
   "metadata": {},
   "source": [
    "### Instance Configuration\n",
    "\n",
    "Check: 'Allow Http' & 'Allow Https'\n",
    "\n",
    "![](images/07.png)\n"
   ]
  },
  {
   "cell_type": "markdown",
   "metadata": {},
   "source": [
    "### Instance Configuration\n",
    "\n",
    "Note the ip address (how we locate the machine). What does ephemeral mean?\n",
    "\n",
    "![](images/09.png)\n"
   ]
  },
  {
   "cell_type": "markdown",
   "metadata": {},
   "source": [
    "### Go to Network -> External IP Addresses from the menu\n",
    "\n",
    "\n",
    "![](images/10.png)\n"
   ]
  },
  {
   "cell_type": "markdown",
   "metadata": {},
   "source": [
    "### Change the IP Address to static\n",
    "\n",
    "![](images/11.png)\n"
   ]
  },
  {
   "cell_type": "markdown",
   "metadata": {},
   "source": [
    "### Go back to the Compute and click on the instance we setup\n",
    "\n",
    "We will now login to the machine to install Jupyter\n",
    "\n",
    "![](images/12.png)\n"
   ]
  },
  {
   "cell_type": "markdown",
   "metadata": {},
   "source": [
    "### You should see this loading screen in a new browser window\n",
    "\n",
    "\n",
    "![](images/13.png)\n"
   ]
  },
  {
   "cell_type": "markdown",
   "metadata": {},
   "source": [
    "### Once that completes you will have a terminal window in the browser\n",
    "\n",
    "Pretty cool!\n",
    "\n",
    "![](images/14.png)\n"
   ]
  },
  {
   "cell_type": "markdown",
   "metadata": {},
   "source": [
    "### We will run through a few commands to get setup\n",
    "\n",
    "For now try\n",
    "\n",
    "sudo apt-get update\n",
    "\n",
    "![](images/15.png)\n"
   ]
  },
  {
   "cell_type": "markdown",
   "metadata": {},
   "source": [
    "### Run through these commands one by one\n",
    "\n",
    "`sudo apt-get install python3-setuptools python3-dev libzmq-dev`\n",
    "\n",
    "`sudo easy_install3 pip`\n",
    "\n",
    "\n",
    "`sudo pip3 install ipython pyzmq jinja2 tornado jsonschema`\n",
    "\n",
    "`sudo pip3 install jupyter`\n",
    "\n",
    "\n",
    "`sudo jupyter kernelspec install-self`\n",
    "\n",
    "`sudo pip3 install numpy scipy scikit-learn pandas matplotlib`\n",
    "\n",
    "`jupyter notebook --ip=0.0.0.0 --port=8888 --no-browser &`\n",
    "\n",
    "![](images/16.png)\n"
   ]
  },
  {
   "cell_type": "markdown",
   "metadata": {},
   "source": [
    "### We've now started the Jupyter notebook\n",
    "\n",
    "We just need to login to it\n",
    "\n",
    "![](images/17.png)\n"
   ]
  },
  {
   "cell_type": "markdown",
   "metadata": {},
   "source": [
    "### We need to allow access on the port we are running jupyter\n",
    "\n",
    "1. Go to Networking from the dropdown. \n",
    "2. Then select Firewall Access.\n",
    "3. Create a Firewall rule\n",
    "4. Name it 'jupyter-access'\n",
    "5. Set ip range to '0.0.0.0/0'\n",
    "6. Set protocols and ports to 'tcp:8888'\n",
    "\n",
    "![](images/18.png)\n",
    "\n",
    "![](images/22.png)\n"
   ]
  },
  {
   "cell_type": "markdown",
   "metadata": {},
   "source": [
    "### Go back to the instance type\n",
    "\n",
    "Now add 'jupyter-access' to the Network Tags\n",
    "\n",
    "![](images/20.png)\n"
   ]
  },
  {
   "cell_type": "markdown",
   "metadata": {},
   "source": [
    "### The tags should look like this\n",
    "\n",
    "![](images/21.png)\n"
   ]
  },
  {
   "cell_type": "markdown",
   "metadata": {},
   "source": [
    "### Now we will create somewhere to store our data\n",
    "\n",
    "Go to Storage and create a bucket\n",
    "\n",
    "![](images/23.png)\n"
   ]
  },
  {
   "cell_type": "markdown",
   "metadata": {},
   "source": [
    "### Bucket Configuration\n",
    "\n",
    "Make a note of the name of the bucket (or set it yourself).\n",
    "\n",
    "Select Regional and the 'australia-southeast-1a' Regional location\n",
    "\n",
    "![](images/24.png)\n"
   ]
  },
  {
   "cell_type": "markdown",
   "metadata": {},
   "source": [
    "### Upload a file\n",
    "\n",
    "Try the HR analytics file from last week\n",
    "\n",
    "![](images/25.png)\n"
   ]
  },
  {
   "cell_type": "markdown",
   "metadata": {},
   "source": [
    "### Run through these commands back in the shell, one by one\n",
    "\n",
    "export GCSFUSE_REPO=gcsfuse-\\`lsb_release -c -s\\`\n",
    "\n",
    "echo \"deb http://packages.cloud.google.com/apt $GCSFUSE_REPO main\" | sudo tee /etc/apt/sources.list.d/gcsfuse.list\n",
    "\n",
    "curl https://packages.cloud.google.com/apt/doc/apt-key.gpg | sudo apt-key add -\n",
    "\n",
    "sudo apt-get update\n",
    "sudo apt-get install gcsfuse\n",
    "\n",
    "mkdir cloud-files\n",
    "gcsfuse example-bucket cloud-files\n",
    "\n",
    "![](images/14.png)"
   ]
  },
  {
   "cell_type": "markdown",
   "metadata": {},
   "source": [
    "### Try out your fancy new cloud instance of jupyter!\n",
    "\n",
    "We can now load data from cloud storage in python\n",
    "\n",
    "![](images/26.png)\n"
   ]
  },
  {
   "cell_type": "markdown",
   "metadata": {},
   "source": [
    "### DELETE EVERYTHING\n",
    "\n",
    "It is important that you delete everything so you don't get charged for it.\n",
    "\n",
    "1. Delete the instance\n",
    "2. Release the static address\n",
    "3. Delete the bucket\n",
    "\n",
    "### 1 \n",
    "![](images/28.png)\n",
    "\n",
    "\n",
    "### 2 \n",
    "![](images/29.png)\n",
    "\n",
    "\n",
    "### 3\n",
    "![](images/27.png)\n"
   ]
  },
  {
   "cell_type": "markdown",
   "metadata": {},
   "source": [
    "### These basics are a demonstration of how different components in Google Cloud work together.\n",
    "\n",
    "Another useful tutorial is getting a Spark cluster running, try it out [here](https://cloud.google.com/dataproc/docs/tutorials/spark-scala)"
   ]
  }
 ],
 "metadata": {
  "kernelspec": {
   "display_name": "Python 3",
   "language": "python",
   "name": "python3"
  },
  "language_info": {
   "codemirror_mode": {
    "name": "ipython",
    "version": 3
   },
   "file_extension": ".py",
   "mimetype": "text/x-python",
   "name": "python",
   "nbconvert_exporter": "python",
   "pygments_lexer": "ipython3",
   "version": "3.6.0"
  }
 },
 "nbformat": 4,
 "nbformat_minor": 2
}
