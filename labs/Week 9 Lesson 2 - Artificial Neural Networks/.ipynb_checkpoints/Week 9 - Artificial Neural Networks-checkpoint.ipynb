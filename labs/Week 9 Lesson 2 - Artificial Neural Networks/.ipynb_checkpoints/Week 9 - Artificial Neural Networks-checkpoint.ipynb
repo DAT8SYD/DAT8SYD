{
 "cells": [
  {
   "cell_type": "markdown",
   "metadata": {},
   "source": [
    "# Data Science Part Time Course - Sydney\n",
    "## Deep Learning with Google Cloud Platform\n",
    "\n",
    "In this lab we will experiment with the Tensorflow on Google Cloud Platform (GCP). Instead of creating a computing instace, installing all the packages and configuraing the environment we are going to use the Google Cloud Machine Learning Engine.\n",
    "\n",
    "\n",
    "\n",
    "\n",
    "https://www.tensorflow.org/\n",
    "\n",
    "\n",
    "Documentation on Google Cloud Machine Learning Engine can be found here:\n",
    "https://cloud.google.com/ml-engine/docs/\n"
   ]
  },
  {
   "cell_type": "markdown",
   "metadata": {},
   "source": [
    "# Tensorflow\n",
    "\n",
    "Have a play with Tensorflow in the browser.\n",
    "\n",
    "http://playground.tensorflow.org/\n",
    "\n",
    "\n",
    "![](images/logo.png)"
   ]
  },
  {
   "cell_type": "markdown",
   "metadata": {},
   "source": [
    "Experiment with the default problem (target shaped dataset) and change the parameters at the top. The options on the left allow you to change data set, resample etc. Leave those options for now.\n",
    "\n",
    "For each test, run the trining for about 100 Epochs (full runs through the training set). Out evaluation of model perfomance is based on:\n",
    "\n",
    "- visual judgement of classification from the plot\n",
    "- the Loss score for Test"
   ]
  },
  {
   "cell_type": "markdown",
   "metadata": {},
   "source": [
    "Q: What happens when you change the learning rate up or down?"
   ]
  },
  {
   "cell_type": "markdown",
   "metadata": {},
   "source": [
    "Q: What happens when you change the activation funtion to be \n",
    "    - linear?\n",
    "    - sigmoid?\n",
    "    - reLU?"
   ]
  },
  {
   "cell_type": "markdown",
   "metadata": {},
   "source": [
    "Q: What happens when you add regularisation?"
   ]
  },
  {
   "cell_type": "markdown",
   "metadata": {},
   "source": [
    "Q: What happens when you change the regularisation rate up or down?"
   ]
  },
  {
   "cell_type": "markdown",
   "metadata": {},
   "source": [
    "Q: What happens when you add new feature transformations as inputs (click on them)?"
   ]
  },
  {
   "cell_type": "markdown",
   "metadata": {},
   "source": [
    "Q: What happens when you add a new layer?"
   ]
  },
  {
   "cell_type": "markdown",
   "metadata": {},
   "source": [
    "# TensorFlow on Google Cloud\n",
    "\n",
    "We will set up a TensorFlow machine learning model with google cloud.\n",
    "\n",
    "https://cloud.google.com/ml-engine/docs/tutorials/distributed-tensorflow-mnist-cloud-datalab\n"
   ]
  },
  {
   "cell_type": "markdown",
   "metadata": {},
   "source": [
    "### log into the Google Cloud console\n",
    "\n",
    "Everyone should have a login by now\n",
    "\n",
    "![](images/01.png)\n"
   ]
  },
  {
   "cell_type": "markdown",
   "metadata": {},
   "source": [
    "Pre-requisits for using the Natural Language API include:\n",
    "\n",
    "-  Setting up a project\n",
    "-  Enabling Billing\n",
    "\n",
    "These steps should already be in place form when you established your account. Here is a guide for preparing your account to use the API https://cloud.google.com/natural-language/docs/getting-started"
   ]
  },
  {
   "cell_type": "markdown",
   "metadata": {},
   "source": [
    "### Create a New Project\n",
    "\n",
    "Press the project selector button at the top of the Console.\n",
    "\n",
    "![](images/02.png)"
   ]
  },
  {
   "cell_type": "markdown",
   "metadata": {},
   "source": [
    "\n",
    "\n",
    "The from the pop-up select the plus button to creata a new project.\n",
    "\n",
    "![](images/03.png)"
   ]
  },
  {
   "cell_type": "markdown",
   "metadata": {},
   "source": [
    "\n",
    "After arriving back at the Console, select the project selector button again and then switch to the project you just created. \n",
    "\n",
    "![](images/04.png)"
   ]
  },
  {
   "cell_type": "markdown",
   "metadata": {},
   "source": [
    "### Enable Billing on the Project\n",
    "\n",
    "From the GCP console, start entering \"billing\" into the search bar, and then click the Billing API option. \n",
    "\n",
    "![](images/billing_search.png)"
   ]
  },
  {
   "cell_type": "markdown",
   "metadata": {},
   "source": [
    "You should end up in the API Manager.\n",
    "\n",
    "Press the enable button\n",
    "\n",
    "![](images/billing.png)"
   ]
  },
  {
   "cell_type": "markdown",
   "metadata": {},
   "source": [
    "### Enable the Google Compute Engine and the Cloud Machine Learning APIs\n",
    "\n",
    "From the GCP console, start entering \"Google Compute Engine\" into the search bar, and then click the Natural Language API button. \n",
    "\n",
    "Do the same for the \"Cloud Machine Learning API\".\n",
    "\n",
    "![](images/05.png)\n"
   ]
  },
  {
   "cell_type": "markdown",
   "metadata": {},
   "source": [
    "### Start the Shell within Google Cloud - Cloud Shell\n",
    "\n",
    "Cloud Shell is a command line interface for GCP. It is the equivalent of opening up a terminal/bash/command interface on a computer, as it allows you to do things with code instead of the GUI. Note that is different to the command line interface you used when you launched a compute instance in GCP. When you launch a compute instance you get a command line interface to that instance. When you launch Cloud Shell in GCP you get a special command line interface to GCP. \n",
    "\n",
    "https://cloud.google.com/shell/\n",
    "\n",
    "From the Console dashboard press the little shell symbol at the top right.\n",
    "\n",
    "![](images/06.png)\n"
   ]
  },
  {
   "cell_type": "markdown",
   "metadata": {},
   "source": [
    "Then press the 'start cloud shell' button.\n",
    "\n",
    "![](images/07.png)\n"
   ]
  },
  {
   "cell_type": "markdown",
   "metadata": {},
   "source": [
    "You should then see the cloud shell appear at the bottom of the console. Try typing \"ls\" to list the files and folders there.\n",
    "\n",
    "\n"
   ]
  },
  {
   "cell_type": "markdown",
   "metadata": {},
   "source": [
    "Verify the current state by running the code:\n",
    "\n",
    "`gcloud ml-engine models list`\n",
    "\n",
    "you should see a result of:\n",
    "`Listed 0 items.`\n",
    "\n",
    "So we don't have any models registered already."
   ]
  },
  {
   "cell_type": "markdown",
   "metadata": {},
   "source": [
    "### How the Cloud Shell is used to host our cloud ML \n",
    "\n",
    "\n",
    "The diagram below shows how Cloud Shell is used to launch the processes for CloudML. The APIs for model training and prediciton are accessed from command line interface. Behind the Cloud Shell is a virtual machine specific to our GCP console-project. \n",
    "\n",
    "![](images/dist-tf-datalab-arch.png)"
   ]
  },
  {
   "cell_type": "markdown",
   "metadata": {},
   "source": [
    "### Download the MNIST example to you Cloud Shell VM\n",
    "\n",
    "We are now going to download the MNIST example for Google Cloud ML into our shell virtual machine. Enter the following code to clone the exmaples' repository to the Cloud Shell VM and then `cd` into that directory.\n",
    "\n",
    "\n",
    "```\n",
    "git clone https://github.com/GoogleCloudPlatform/cloudml-dist-mnist-example\n",
    "cd cloudml-dist-mnist-example\n",
    "```"
   ]
  },
  {
   "cell_type": "markdown",
   "metadata": {},
   "source": [
    "### Creating a Cloud Storage bucket for MNIST files\n",
    "\n",
    "Instead of storing the data in our Cloud Shell VM, we are going to store the data in a cloud storage bucket. This object storage (like AWS S3) is distriuted and fast, allowing compute intances and APIs to access the data easily and in parallel. \n",
    "\n",
    "https://cloud.google.com/storage/\n",
    "\n",
    "Run the following code one line at a time to \n",
    "\n",
    "1. get the project ID\n",
    "1. create a bucket identifier from the bucket ID and \"-ml\" \n",
    "1. create the bucket specifying the region to host it in. Just use the default `us-central1`. It will be cheaper and won't affect our performance. \n",
    "\n",
    "```\n",
    "PROJECT_ID=$(gcloud config list project --format \"value(core.project)\")\n",
    "BUCKET=\"${PROJECT_ID}-ml\"\n",
    "gsutil mb -c regional -l us-central1 gs://${BUCKET}\n",
    "```\n",
    "\n",
    "Make note of the resulting bucket name. Mine was\n",
    "\n",
    "`gs://mlengine-174109-ml/...`"
   ]
  },
  {
   "cell_type": "markdown",
   "metadata": {},
   "source": [
    "### Download the MNIST data to the bucket\n",
    "\n",
    "Use the following script to download the MNIST data files and copy them to the bucket.\n",
    "\n",
    "```\n",
    "./scripts/create_records.py\n",
    "gsutil cp /tmp/data/train.tfrecords gs://${BUCKET}/data/\n",
    "gsutil cp /tmp/data/test.tfrecords gs://${BUCKET}/data/\n",
    "```"
   ]
  },
  {
   "cell_type": "markdown",
   "metadata": {},
   "source": [
    "# Build a deep learning model\n",
    "\n",
    "The instructions above are a digest of the GCP instructions for this MNIST example with Cloud ML. Go to the following link if you haven't already and scroll down to the section indicated below to start training the model.\n",
    "\n",
    "\n",
    "https://cloud.google.com/ml-engine/docs/tutorials/distributed-tensorflow-mnist-cloud-datalab\n",
    "\n",
    "![](images/08.png)"
   ]
  },
  {
   "cell_type": "markdown",
   "metadata": {},
   "source": [
    "### View running cloud ML jobs from the Console\n",
    "\n",
    "you should see your job running in the Console here\n",
    "\n",
    "![](images/09.png)"
   ]
  },
  {
   "cell_type": "markdown",
   "metadata": {},
   "source": [
    "### View Tensorboard\n",
    "\n",
    "When you get to the point of the lab where you view the TensorBoard, to view the page press the little web-preview button.\n",
    "\n",
    "![](images/10.png)"
   ]
  },
  {
   "cell_type": "markdown",
   "metadata": {
    "collapsed": true
   },
   "source": [
    "## Delete the project to prevent being charged ongoing\n",
    "\n",
    "It is up to you when you want to perform this step, but be aware that you will be charged for storage and compute if you leave it running. The costs for this lab should be small outside of the model build."
   ]
  },
  {
   "cell_type": "code",
   "execution_count": null,
   "metadata": {
    "collapsed": true
   },
   "outputs": [],
   "source": []
  }
 ],
 "metadata": {
  "kernelspec": {
   "display_name": "Python 3",
   "language": "python",
   "name": "python3"
  },
  "language_info": {
   "codemirror_mode": {
    "name": "ipython",
    "version": 3
   },
   "file_extension": ".py",
   "mimetype": "text/x-python",
   "name": "python",
   "nbconvert_exporter": "python",
   "pygments_lexer": "ipython3",
   "version": "3.6.0"
  }
 },
 "nbformat": 4,
 "nbformat_minor": 2
}
